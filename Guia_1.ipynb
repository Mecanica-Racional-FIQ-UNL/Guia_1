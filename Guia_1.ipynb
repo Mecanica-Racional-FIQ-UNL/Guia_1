{
 "cells": [
  {
   "cell_type": "markdown",
   "id": "polished-prior",
   "metadata": {},
   "source": [
    "# Mecánica Racional - Guía de problemas 1 - Repaso"
   ]
  },
  {
   "cell_type": "markdown",
   "id": "colonial-debate",
   "metadata": {},
   "source": [
    "**1.1** Una particula P está ubicada en $\\vec{r}=x \\hat{x}+ y \\hat{y} + z \\hat{z}$. \n",
    "\n",
    "a) Haga un diagrama del sistema utilizando coordenadas cartesianas. Repita el diagrama utilizando coordenadas cilíndricas, identificando $\\rho$, $\\phi$ y $z$ y sus respectivos versores. Repita el diagrama utilizando utilizando coordenadas esféricas, identificando $r$, $\\phi$ y $\\theta$ y sus respectivos versores. Escriba la posición $\\vec{r}$ de la partícula en cada sistema de coordenadas.\n",
    "\n",
    "b) Escriba $x$, $y$ y $z$ en coordenadas cilíndricas. Encuentre la transformación inversa, es decir, escriba $\\rho$, $\\phi$ y $z$ en términos de  $x$, $y$ y $z$.\n",
    "\n",
    "c) Escriba $x$, $y$ y $z$ en coordenadas esféricas. Encuentre la transformación inversa, es decir, escriba  $r$, $\\phi$ y $\\theta$ en términos de  $x$, $y$ y $z$.\n",
    "\n",
    "d) El versor $\\hat{\\rho}$ de coordenadas cilíndricas se escribe en coordenadas cartesianas como $\\hat{\\rho}=\\text{cos} \\phi \\hat{x}+\\text{sen} \\phi \\hat{y}$. ¿Cómo se escribe el versor $\\hat{\\phi}$? ¿Y $\\hat{z}$? ¿Cuánto vale el producto escalar de cada par de versores ($\\hat{i} \\cdot \\hat{j}$)? ¿Cúal es el módulo de cada versor?\n",
    "\n",
    "e) Utilizando lo desarrollado en d), demuestre que \n",
    "\\begin{align}\n",
    "\\frac{d \\hat{\\rho}} {dt}={}& \\dot{\\phi} \\hat{\\phi}\n",
    "\\\\\n",
    "\\frac{d \\hat{\\phi}} {dt}={}& -\\dot{\\phi} \\hat{\\rho} .\n",
    "\\end{align}\n",
    "Luego, escriba $\\dot{\\vec{r}}$ en coordenadas cilíndricas. Muestre que la acelaración en este sistema de coordenadas es \n",
    "\\begin{align}\n",
    "    \\ddot{\\vec{r}}=(\\ddot{\\rho}-\\rho \\dot{\\phi}^2) \\hat{\\rho}+(2 \\dot{\\rho} \\dot{\\phi} + \\rho \\ddot{\\phi}) \\hat{\\phi}+\\ddot{z} \\hat{z}\n",
    "\\end{align}\n",
    "\n",
    "f) Escriba los versores de coordenadas esféricas en coordenadas cartesianas y calcule sus derivadas con respecto al tiempo. Luego, encuentre  $\\dot{\\vec{r}}$ en coordenadas esféricas.\n",
    "\n",
    "g) Encuentre $\\ddot{\\vec{r}}$ en coordenadas esféricas. (Ayuda: ¿Cúal es la expresión para  $\\text{sen} \\theta \\ \\hat{r}+\\text{cos}\\theta \\ \\hat{\\theta}$ en coordenadas cartesianas?)"
   ]
  },
  {
   "cell_type": "markdown",
   "id": "alive-cincinnati",
   "metadata": {},
   "source": [
    "**1.2** Un cañón se encuentra ubicado a una altura $h$ respecto del suelo. Encuentre las expresiones para la evolución temporal del proyectil y su trayectoria. ¿Cúal es el ángulo de disparo óptimo si queremos que el proyectil llegue lo más lejos posible?"
   ]
  },
  {
   "cell_type": "markdown",
   "id": "revolutionary-darkness",
   "metadata": {},
   "source": [
    "**1.3** Una partícula de masa $m$ está sometida a una fuerza $\\vec{F}(x,t)$. La posición inicial es $x(0)=x_0$, y la velocidad inicial es $v(0)=\\dot{x}(0)=0$. Encuentre $x(t)$ para\n",
    "\n",
    "a) $\\vec{F}(x,t)=m A e^{-\\gamma t}$. \n",
    "\n",
    "b) $\\vec{F}(x,t)=-k x$, con $k>0$. \n",
    "\n",
    "Ayuda: a veces es útil utilizar expresiones alternativas de la aceleración $a=\\ddot{x}=\\frac{d^2x}{dt^2}=\\frac{dv}{dt}=\\frac{dx}{dt}\\frac{dv}{dx}=v\\frac{dv}{dx}$."
   ]
  },
  {
   "cell_type": "markdown",
   "id": "august-vacuum",
   "metadata": {},
   "source": [
    "**1.4** Cuando una bola de nieve se tira contra una pared: ¿A dónde va la cantidad de movimiento? ¿Y la energía?"
   ]
  },
  {
   "cell_type": "markdown",
   "id": "paperback-material",
   "metadata": {},
   "source": [
    "**1.5** Un proyectil de masa $m_2=0.1$ Kg disparado por un arma se incrusta en un bloque de madera de masa $m_1=10$ Kg, que cuelga en reposo de una cuerda unida al techo. Luego del impacto, el bloque (con el proyectil incrustado) se levanta una altura $h=0.2$ m respecto a su posición inicial, manteniendo la cuerda tensa. ¿Cúal era la velocidad del proyectil antes del impacto? ¿Afecta en algo que el impacto aumente la temperatura del bloque, lo deforme o haga ruido?\n",
    "\n",
    "![Proyectil](Figures/Proyectil.png)\n",
    "\n"
   ]
  },
  {
   "cell_type": "markdown",
   "id": "large-persian",
   "metadata": {},
   "source": [
    "**1.6** Una pelota de tenis de masa $m_2$ se coloca sobre una pelota de básquet de masa $m_1$ y diámetro $d$, que está a una distancia $h$ del suelo, como se muestra en la figura.\n",
    "\n",
    "![Pelotas](Figures/Pelotas.png)\n",
    "\n",
    "Las pelotas se sueltan: ¿A que altura llegará cada una luego de rebotar? Asuma que la pelota de tenis se encuentra ligeramente separada de la de básquet  al momento de soltar las pelotas y que todas las colisiones son elásticas. Asuma también  que $m_1>>m_2$, lo que puede ser útil para realizar aproximaciones."
   ]
  },
  {
   "cell_type": "markdown",
   "id": "corresponding-jamaica",
   "metadata": {},
   "source": [
    "**1.7** Una bolita de masa $m$ está enhebrada en un aro de alambre de radio $R$, que rota con velocidad angular constante $\\omega$. Asuma que no hay fricción. Escriba la energía mecánica de la bolita en coordenadas esféricas.\n",
    "\n",
    "<img src=\"Figures/AroRotante.png\" alt=\"Drawing\" style=\"width: 150px;\"/>\n",
    "\n",
    "[//]: # \"¿A qué velocidad angular $\\omega$ debe girar el aro para mantener a la bolita en un ángulo $\\theta$ constante?.\"\n",
    "\n"
   ]
  },
  {
   "cell_type": "markdown",
   "id": "detailed-scene",
   "metadata": {},
   "source": [
    "**1.8** Una bola de masa $M$ y una de masa $m$ están unidas por una cuerda de longitud $l$ a través de una polea, como se muestra en la figura. La masa y tamaño de la polea y la cuerda son despreciables y las bolas sólo pueden moverse en dirección vertical. \n",
    "\n",
    "![BolasPolea](Figures/BolasPolea.png)\n",
    "\n",
    "a) Escriba la energía potencial del sistema en las coordenadas cartesianas dadas por el sistema de ejes (fijo en el espacio) que se indica en la figura. ¿De cuántas coordenadas *independientes* depende el sistema?\n",
    "\n",
    "b) Escriba la energía potencial en función de la coordenada $\\theta$ y los parámetros del sistema.\n",
    "\n",
    "c) Encuentre la posición de equilibrio. ¿Existe esta posición para cualquier valor de las masas y longitud de la cuerda?"
   ]
  },
  {
   "cell_type": "markdown",
   "id": "moved-documentation",
   "metadata": {},
   "source": [
    "**1.9** La energía potencial $V(x)$ de una partícula, en función de su posición $x$, se muestra en la siguiente figura. \n",
    "\n",
    "![BolasPolea](Figures/EnergiaPotencial.png)\n",
    "\n",
    "a) Indique los puntos de equilibrio, describiendo si son estables, inestables o indiferentes. ¿En qué intervalos de $x$ la fuerza es positiva?\n",
    "\n",
    "b) Si la partícula tiene energía mecánica $E_M \\leq 0$, ¿en qué regiones puede estar?. Si la energía mecánica es $E_M=0$, cúal es la energía cinética de la partícula en función de $x$?\n",
    "\n",
    "c) ¿En qué puntos la velocidad de la partícula es máxima? ¿En qué puntos la velocidad es cero?\n",
    "\n",
    "d) Haga un gráfico cualitativo de las trayectorias en el plano $(x,v_x)$ para distintas energías mecánicas. ¿En qué regiones la partícula está confinada?"
   ]
  },
  {
   "cell_type": "markdown",
   "id": "forward-driving",
   "metadata": {},
   "source": [
    "**1.10** Un bloque de masa $m$ está unido a un resorte de constante $k$ y se encuentra sobre un plano inclinado de ángulo $\\theta$. Inicialmente, el coeficiente de fricción estática entre el plano y el bloque es $\\mu$.\n",
    "\n",
    "![PlanoYResorte](Figures/PlanoYResorte.png)\n",
    "\n",
    "a) Si mueve el bloque hacia abajo, comprimiendo el resorte: ¿Cúal es la máxima distancia de compresión (relativa a la longitud natural del resorte relajado) que permite que el bloque quede en reposo cuando lo suelta?\n",
    "\n",
    "b) Suponga que el bloque está en la posición encontrada en a). En un instante dado, el coeficiente de fricción desaparece (de alguna manera misteriosa, posiblemente duendes), de manera que el bloque es empujado hacia arriba por el resorte. ¿Cúal debe ser la relación entre $\\mu$ y el resto de los parámetros del problema para que el bloque alcance su altura máxima cuando el resorte esté en su longitud natural?"
   ]
  },
  {
   "cell_type": "markdown",
   "id": "applied-booking",
   "metadata": {},
   "source": [
    "**1.11** *El bloque y la cuña deslizante*. A $t=0$ se libera un bloque de masa $m$, que se desliza sin fricción por una cuña de masa $M$ y ángulo de inclinación $\\alpha$. La cuña descansa sobre un plano horizontal, por el que puede deslizar sin fricción. \n",
    "\n",
    "![CunaYMasa](Figures/CunaYMasa.png)\n",
    "\n",
    "a) Calcule la fuerza normal $\\vec{N}$ que hace la cuña sobre el bloque (Ayuda: no podemos asumir que su módulo sea $N=mg \\ \\text{cos}\\alpha$, ya que la cuña se mueve).\n",
    "\n",
    "b) Encuentre la aceleración de la cuña."
   ]
  }
 ],
 "metadata": {
  "kernelspec": {
   "display_name": "Python 3",
   "language": "python",
   "name": "python3"
  },
  "language_info": {
   "codemirror_mode": {
    "name": "ipython",
    "version": 3
   },
   "file_extension": ".py",
   "mimetype": "text/x-python",
   "name": "python",
   "nbconvert_exporter": "python",
   "pygments_lexer": "ipython3",
   "version": "3.6.12"
  }
 },
 "nbformat": 4,
 "nbformat_minor": 5
}
